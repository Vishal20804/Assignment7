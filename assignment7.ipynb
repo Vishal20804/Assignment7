{
 "cells": [
  {
   "cell_type": "code",
   "execution_count": 2,
   "id": "99a96074-5ed1-4f49-b11a-f2195723db06",
   "metadata": {},
   "outputs": [
    {
     "name": "stdout",
     "output_type": "stream",
     "text": [
      "0\n"
     ]
    }
   ],
   "source": [
    "#ans:1=\n",
    "def product_of_flattened_list(lst):\n",
    "    flattened_lst = []\n",
    "    for element in lst:\n",
    "        if isinstance(element, list) or isinstance(element, tuple):\n",
    "            flattened_lst.extend(element)\n",
    "        elif isinstance(element, dict):\n",
    "            flattened_lst.extend(element.values())\n",
    "        else:\n",
    "            flattened_lst.append(element)\n",
    "\n",
    "    product = 1\n",
    "    for num in flattened_lst:\n",
    "        if isinstance(num, (int, float)):\n",
    "            product *= num\n",
    "\n",
    "    return product\n",
    "\n",
    "list1 = [1,2,3,4,[44,55,66,True],False,(34,56,78,89,34),{1:34,\"key2\":[55,67,78,89],4:(45,22,61,34)},[56,'data science'],'Machine Learning']\n",
    "\n",
    "print(product_of_flattened_list(list1))\n"
   ]
  },
  {
   "cell_type": "code",
   "execution_count": null,
   "id": "4909ce22-0247-4895-b68b-aaa3e9e8b945",
   "metadata": {},
   "outputs": [],
   "source": []
  },
  {
   "cell_type": "code",
   "execution_count": null,
   "id": "afcae5c8-cb35-415e-90dc-7b768c9c5f61",
   "metadata": {},
   "outputs": [],
   "source": []
  }
 ],
 "metadata": {
  "kernelspec": {
   "display_name": "Python 3 (ipykernel)",
   "language": "python",
   "name": "python3"
  },
  "language_info": {
   "codemirror_mode": {
    "name": "ipython",
    "version": 3
   },
   "file_extension": ".py",
   "mimetype": "text/x-python",
   "name": "python",
   "nbconvert_exporter": "python",
   "pygments_lexer": "ipython3",
   "version": "3.10.8"
  }
 },
 "nbformat": 4,
 "nbformat_minor": 5
}
